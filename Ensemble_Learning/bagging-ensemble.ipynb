{
 "cells": [
  {
   "cell_type": "code",
   "execution_count": 1,
   "id": "24f3f16b",
   "metadata": {
    "_cell_guid": "b1076dfc-b9ad-4769-8c92-a6c4dae69d19",
    "_uuid": "8f2839f25d086af736a60e9eeb907d3b93b6e0e5",
    "execution": {
     "iopub.execute_input": "2023-10-18T12:14:54.145509Z",
     "iopub.status.busy": "2023-10-18T12:14:54.144889Z",
     "iopub.status.idle": "2023-10-18T12:14:54.525799Z",
     "shell.execute_reply": "2023-10-18T12:14:54.524610Z"
    },
    "papermill": {
     "duration": 0.394978,
     "end_time": "2023-10-18T12:14:54.529519",
     "exception": false,
     "start_time": "2023-10-18T12:14:54.134541",
     "status": "completed"
    },
    "tags": []
   },
   "outputs": [
    {
     "name": "stdout",
     "output_type": "stream",
     "text": [
      "/kaggle/input/iris-dataset/iris.data.csv\n"
     ]
    }
   ],
   "source": [
    "# This Python 3 environment comes with many helpful analytics libraries installed\n",
    "# It is defined by the kaggle/python Docker image: https://github.com/kaggle/docker-python\n",
    "# For example, here's several helpful packages to load\n",
    "\n",
    "import numpy as np # linear algebra\n",
    "import pandas as pd # data processing, CSV file I/O (e.g. pd.read_csv)\n",
    "\n",
    "# Input data files are available in the read-only \"../input/\" directory\n",
    "# For example, running this (by clicking run or pressing Shift+Enter) will list all files under the input directory\n",
    "\n",
    "import os\n",
    "for dirname, _, filenames in os.walk('/kaggle/input'):\n",
    "    for filename in filenames:\n",
    "        print(os.path.join(dirname, filename))\n",
    "\n",
    "# You can write up to 20GB to the current directory (/kaggle/working/) that gets preserved as output when you create a version using \"Save & Run All\" \n",
    "# You can also write temporary files to /kaggle/temp/, but they won't be saved outside of the current session"
   ]
  },
  {
   "cell_type": "code",
   "execution_count": 2,
   "id": "bc6fec32",
   "metadata": {
    "execution": {
     "iopub.execute_input": "2023-10-18T12:14:54.548771Z",
     "iopub.status.busy": "2023-10-18T12:14:54.548292Z",
     "iopub.status.idle": "2023-10-18T12:14:54.565292Z",
     "shell.execute_reply": "2023-10-18T12:14:54.564318Z"
    },
    "papermill": {
     "duration": 0.028702,
     "end_time": "2023-10-18T12:14:54.567819",
     "exception": false,
     "start_time": "2023-10-18T12:14:54.539117",
     "status": "completed"
    },
    "tags": []
   },
   "outputs": [],
   "source": [
    "df=pd.read_csv('/kaggle/input/iris-dataset/iris.data.csv',header=None)"
   ]
  },
  {
   "cell_type": "code",
   "execution_count": 3,
   "id": "f685786e",
   "metadata": {
    "execution": {
     "iopub.execute_input": "2023-10-18T12:14:54.586360Z",
     "iopub.status.busy": "2023-10-18T12:14:54.585976Z",
     "iopub.status.idle": "2023-10-18T12:14:54.612846Z",
     "shell.execute_reply": "2023-10-18T12:14:54.611618Z"
    },
    "papermill": {
     "duration": 0.038575,
     "end_time": "2023-10-18T12:14:54.615114",
     "exception": false,
     "start_time": "2023-10-18T12:14:54.576539",
     "status": "completed"
    },
    "tags": []
   },
   "outputs": [
    {
     "data": {
      "text/html": [
       "<div>\n",
       "<style scoped>\n",
       "    .dataframe tbody tr th:only-of-type {\n",
       "        vertical-align: middle;\n",
       "    }\n",
       "\n",
       "    .dataframe tbody tr th {\n",
       "        vertical-align: top;\n",
       "    }\n",
       "\n",
       "    .dataframe thead th {\n",
       "        text-align: right;\n",
       "    }\n",
       "</style>\n",
       "<table border=\"1\" class=\"dataframe\">\n",
       "  <thead>\n",
       "    <tr style=\"text-align: right;\">\n",
       "      <th></th>\n",
       "      <th>0</th>\n",
       "      <th>1</th>\n",
       "      <th>2</th>\n",
       "      <th>3</th>\n",
       "      <th>4</th>\n",
       "    </tr>\n",
       "  </thead>\n",
       "  <tbody>\n",
       "    <tr>\n",
       "      <th>0</th>\n",
       "      <td>5.1</td>\n",
       "      <td>3.5</td>\n",
       "      <td>1.4</td>\n",
       "      <td>0.2</td>\n",
       "      <td>Iris-setosa</td>\n",
       "    </tr>\n",
       "    <tr>\n",
       "      <th>1</th>\n",
       "      <td>4.9</td>\n",
       "      <td>3.0</td>\n",
       "      <td>1.4</td>\n",
       "      <td>0.2</td>\n",
       "      <td>Iris-setosa</td>\n",
       "    </tr>\n",
       "    <tr>\n",
       "      <th>2</th>\n",
       "      <td>4.7</td>\n",
       "      <td>3.2</td>\n",
       "      <td>1.3</td>\n",
       "      <td>0.2</td>\n",
       "      <td>Iris-setosa</td>\n",
       "    </tr>\n",
       "    <tr>\n",
       "      <th>3</th>\n",
       "      <td>4.6</td>\n",
       "      <td>3.1</td>\n",
       "      <td>1.5</td>\n",
       "      <td>0.2</td>\n",
       "      <td>Iris-setosa</td>\n",
       "    </tr>\n",
       "    <tr>\n",
       "      <th>4</th>\n",
       "      <td>5.0</td>\n",
       "      <td>3.6</td>\n",
       "      <td>1.4</td>\n",
       "      <td>0.2</td>\n",
       "      <td>Iris-setosa</td>\n",
       "    </tr>\n",
       "  </tbody>\n",
       "</table>\n",
       "</div>"
      ],
      "text/plain": [
       "     0    1    2    3            4\n",
       "0  5.1  3.5  1.4  0.2  Iris-setosa\n",
       "1  4.9  3.0  1.4  0.2  Iris-setosa\n",
       "2  4.7  3.2  1.3  0.2  Iris-setosa\n",
       "3  4.6  3.1  1.5  0.2  Iris-setosa\n",
       "4  5.0  3.6  1.4  0.2  Iris-setosa"
      ]
     },
     "execution_count": 3,
     "metadata": {},
     "output_type": "execute_result"
    }
   ],
   "source": [
    "df.head()"
   ]
  },
  {
   "cell_type": "code",
   "execution_count": 4,
   "id": "d0c4cf48",
   "metadata": {
    "execution": {
     "iopub.execute_input": "2023-10-18T12:14:54.633481Z",
     "iopub.status.busy": "2023-10-18T12:14:54.632542Z",
     "iopub.status.idle": "2023-10-18T12:14:54.637824Z",
     "shell.execute_reply": "2023-10-18T12:14:54.637052Z"
    },
    "papermill": {
     "duration": 0.016526,
     "end_time": "2023-10-18T12:14:54.639723",
     "exception": false,
     "start_time": "2023-10-18T12:14:54.623197",
     "status": "completed"
    },
    "tags": []
   },
   "outputs": [],
   "source": [
    "df1 = df.rename(columns={0:'SepalLengthCm', 1:'SepalWidthCm', 2: 'PetalLengthCm',3:' PetalWidthCm',4:'Species'})\n"
   ]
  },
  {
   "cell_type": "code",
   "execution_count": 5,
   "id": "733738c0",
   "metadata": {
    "execution": {
     "iopub.execute_input": "2023-10-18T12:14:54.657940Z",
     "iopub.status.busy": "2023-10-18T12:14:54.657314Z",
     "iopub.status.idle": "2023-10-18T12:14:54.671776Z",
     "shell.execute_reply": "2023-10-18T12:14:54.670583Z"
    },
    "papermill": {
     "duration": 0.026531,
     "end_time": "2023-10-18T12:14:54.674350",
     "exception": false,
     "start_time": "2023-10-18T12:14:54.647819",
     "status": "completed"
    },
    "tags": []
   },
   "outputs": [
    {
     "data": {
      "text/html": [
       "<div>\n",
       "<style scoped>\n",
       "    .dataframe tbody tr th:only-of-type {\n",
       "        vertical-align: middle;\n",
       "    }\n",
       "\n",
       "    .dataframe tbody tr th {\n",
       "        vertical-align: top;\n",
       "    }\n",
       "\n",
       "    .dataframe thead th {\n",
       "        text-align: right;\n",
       "    }\n",
       "</style>\n",
       "<table border=\"1\" class=\"dataframe\">\n",
       "  <thead>\n",
       "    <tr style=\"text-align: right;\">\n",
       "      <th></th>\n",
       "      <th>SepalLengthCm</th>\n",
       "      <th>SepalWidthCm</th>\n",
       "      <th>PetalLengthCm</th>\n",
       "      <th>PetalWidthCm</th>\n",
       "      <th>Species</th>\n",
       "    </tr>\n",
       "  </thead>\n",
       "  <tbody>\n",
       "    <tr>\n",
       "      <th>0</th>\n",
       "      <td>5.1</td>\n",
       "      <td>3.5</td>\n",
       "      <td>1.4</td>\n",
       "      <td>0.2</td>\n",
       "      <td>Iris-setosa</td>\n",
       "    </tr>\n",
       "    <tr>\n",
       "      <th>1</th>\n",
       "      <td>4.9</td>\n",
       "      <td>3.0</td>\n",
       "      <td>1.4</td>\n",
       "      <td>0.2</td>\n",
       "      <td>Iris-setosa</td>\n",
       "    </tr>\n",
       "    <tr>\n",
       "      <th>2</th>\n",
       "      <td>4.7</td>\n",
       "      <td>3.2</td>\n",
       "      <td>1.3</td>\n",
       "      <td>0.2</td>\n",
       "      <td>Iris-setosa</td>\n",
       "    </tr>\n",
       "    <tr>\n",
       "      <th>3</th>\n",
       "      <td>4.6</td>\n",
       "      <td>3.1</td>\n",
       "      <td>1.5</td>\n",
       "      <td>0.2</td>\n",
       "      <td>Iris-setosa</td>\n",
       "    </tr>\n",
       "    <tr>\n",
       "      <th>4</th>\n",
       "      <td>5.0</td>\n",
       "      <td>3.6</td>\n",
       "      <td>1.4</td>\n",
       "      <td>0.2</td>\n",
       "      <td>Iris-setosa</td>\n",
       "    </tr>\n",
       "  </tbody>\n",
       "</table>\n",
       "</div>"
      ],
      "text/plain": [
       "   SepalLengthCm  SepalWidthCm  PetalLengthCm   PetalWidthCm      Species\n",
       "0            5.1           3.5            1.4            0.2  Iris-setosa\n",
       "1            4.9           3.0            1.4            0.2  Iris-setosa\n",
       "2            4.7           3.2            1.3            0.2  Iris-setosa\n",
       "3            4.6           3.1            1.5            0.2  Iris-setosa\n",
       "4            5.0           3.6            1.4            0.2  Iris-setosa"
      ]
     },
     "execution_count": 5,
     "metadata": {},
     "output_type": "execute_result"
    }
   ],
   "source": [
    "df1.head()"
   ]
  },
  {
   "cell_type": "code",
   "execution_count": 6,
   "id": "827f1df0",
   "metadata": {
    "execution": {
     "iopub.execute_input": "2023-10-18T12:14:54.692628Z",
     "iopub.status.busy": "2023-10-18T12:14:54.692239Z",
     "iopub.status.idle": "2023-10-18T12:14:55.968076Z",
     "shell.execute_reply": "2023-10-18T12:14:55.966536Z"
    },
    "papermill": {
     "duration": 1.287936,
     "end_time": "2023-10-18T12:14:55.970611",
     "exception": false,
     "start_time": "2023-10-18T12:14:54.682675",
     "status": "completed"
    },
    "tags": []
   },
   "outputs": [],
   "source": [
    "from sklearn.preprocessing import LabelEncoder"
   ]
  },
  {
   "cell_type": "code",
   "execution_count": 7,
   "id": "8e2a2c88",
   "metadata": {
    "execution": {
     "iopub.execute_input": "2023-10-18T12:14:55.989649Z",
     "iopub.status.busy": "2023-10-18T12:14:55.989222Z",
     "iopub.status.idle": "2023-10-18T12:14:55.993758Z",
     "shell.execute_reply": "2023-10-18T12:14:55.992674Z"
    },
    "papermill": {
     "duration": 0.016796,
     "end_time": "2023-10-18T12:14:55.995901",
     "exception": false,
     "start_time": "2023-10-18T12:14:55.979105",
     "status": "completed"
    },
    "tags": []
   },
   "outputs": [],
   "source": [
    "encoder=LabelEncoder()"
   ]
  },
  {
   "cell_type": "code",
   "execution_count": 8,
   "id": "a6455c25",
   "metadata": {
    "execution": {
     "iopub.execute_input": "2023-10-18T12:14:56.015942Z",
     "iopub.status.busy": "2023-10-18T12:14:56.014916Z",
     "iopub.status.idle": "2023-10-18T12:14:57.195629Z",
     "shell.execute_reply": "2023-10-18T12:14:57.193793Z"
    },
    "papermill": {
     "duration": 1.192792,
     "end_time": "2023-10-18T12:14:57.197468",
     "exception": true,
     "start_time": "2023-10-18T12:14:56.004676",
     "status": "failed"
    },
    "tags": []
   },
   "outputs": [
    {
     "ename": "KeyError",
     "evalue": "'Species'",
     "output_type": "error",
     "traceback": [
      "\u001b[0;31m---------------------------------------------------------------------------\u001b[0m",
      "\u001b[0;31mKeyError\u001b[0m                                  Traceback (most recent call last)",
      "File \u001b[0;32m/opt/conda/lib/python3.10/site-packages/pandas/core/indexes/base.py:3653\u001b[0m, in \u001b[0;36mIndex.get_loc\u001b[0;34m(self, key)\u001b[0m\n\u001b[1;32m   3652\u001b[0m \u001b[38;5;28;01mtry\u001b[39;00m:\n\u001b[0;32m-> 3653\u001b[0m     \u001b[38;5;28;01mreturn\u001b[39;00m \u001b[38;5;28;43mself\u001b[39;49m\u001b[38;5;241;43m.\u001b[39;49m\u001b[43m_engine\u001b[49m\u001b[38;5;241;43m.\u001b[39;49m\u001b[43mget_loc\u001b[49m\u001b[43m(\u001b[49m\u001b[43mcasted_key\u001b[49m\u001b[43m)\u001b[49m\n\u001b[1;32m   3654\u001b[0m \u001b[38;5;28;01mexcept\u001b[39;00m \u001b[38;5;167;01mKeyError\u001b[39;00m \u001b[38;5;28;01mas\u001b[39;00m err:\n",
      "File \u001b[0;32m/opt/conda/lib/python3.10/site-packages/pandas/_libs/index.pyx:147\u001b[0m, in \u001b[0;36mpandas._libs.index.IndexEngine.get_loc\u001b[0;34m()\u001b[0m\n",
      "File \u001b[0;32m/opt/conda/lib/python3.10/site-packages/pandas/_libs/index.pyx:155\u001b[0m, in \u001b[0;36mpandas._libs.index.IndexEngine.get_loc\u001b[0;34m()\u001b[0m\n",
      "File \u001b[0;32mpandas/_libs/index_class_helper.pxi:70\u001b[0m, in \u001b[0;36mpandas._libs.index.Int64Engine._check_type\u001b[0;34m()\u001b[0m\n",
      "\u001b[0;31mKeyError\u001b[0m: 'Species'",
      "\nThe above exception was the direct cause of the following exception:\n",
      "\u001b[0;31mKeyError\u001b[0m                                  Traceback (most recent call last)",
      "Cell \u001b[0;32mIn[8], line 1\u001b[0m\n\u001b[0;32m----> 1\u001b[0m df[\u001b[38;5;124m'\u001b[39m\u001b[38;5;124mSpecies\u001b[39m\u001b[38;5;124m'\u001b[39m] \u001b[38;5;241m=\u001b[39m encoder\u001b[38;5;241m.\u001b[39mfit_transform(\u001b[43mdf\u001b[49m\u001b[43m[\u001b[49m\u001b[38;5;124;43m'\u001b[39;49m\u001b[38;5;124;43mSpecies\u001b[39;49m\u001b[38;5;124;43m'\u001b[39;49m\u001b[43m]\u001b[49m)\n",
      "File \u001b[0;32m/opt/conda/lib/python3.10/site-packages/pandas/core/frame.py:3761\u001b[0m, in \u001b[0;36mDataFrame.__getitem__\u001b[0;34m(self, key)\u001b[0m\n\u001b[1;32m   3759\u001b[0m \u001b[38;5;28;01mif\u001b[39;00m \u001b[38;5;28mself\u001b[39m\u001b[38;5;241m.\u001b[39mcolumns\u001b[38;5;241m.\u001b[39mnlevels \u001b[38;5;241m>\u001b[39m \u001b[38;5;241m1\u001b[39m:\n\u001b[1;32m   3760\u001b[0m     \u001b[38;5;28;01mreturn\u001b[39;00m \u001b[38;5;28mself\u001b[39m\u001b[38;5;241m.\u001b[39m_getitem_multilevel(key)\n\u001b[0;32m-> 3761\u001b[0m indexer \u001b[38;5;241m=\u001b[39m \u001b[38;5;28;43mself\u001b[39;49m\u001b[38;5;241;43m.\u001b[39;49m\u001b[43mcolumns\u001b[49m\u001b[38;5;241;43m.\u001b[39;49m\u001b[43mget_loc\u001b[49m\u001b[43m(\u001b[49m\u001b[43mkey\u001b[49m\u001b[43m)\u001b[49m\n\u001b[1;32m   3762\u001b[0m \u001b[38;5;28;01mif\u001b[39;00m is_integer(indexer):\n\u001b[1;32m   3763\u001b[0m     indexer \u001b[38;5;241m=\u001b[39m [indexer]\n",
      "File \u001b[0;32m/opt/conda/lib/python3.10/site-packages/pandas/core/indexes/base.py:3655\u001b[0m, in \u001b[0;36mIndex.get_loc\u001b[0;34m(self, key)\u001b[0m\n\u001b[1;32m   3653\u001b[0m     \u001b[38;5;28;01mreturn\u001b[39;00m \u001b[38;5;28mself\u001b[39m\u001b[38;5;241m.\u001b[39m_engine\u001b[38;5;241m.\u001b[39mget_loc(casted_key)\n\u001b[1;32m   3654\u001b[0m \u001b[38;5;28;01mexcept\u001b[39;00m \u001b[38;5;167;01mKeyError\u001b[39;00m \u001b[38;5;28;01mas\u001b[39;00m err:\n\u001b[0;32m-> 3655\u001b[0m     \u001b[38;5;28;01mraise\u001b[39;00m \u001b[38;5;167;01mKeyError\u001b[39;00m(key) \u001b[38;5;28;01mfrom\u001b[39;00m \u001b[38;5;21;01merr\u001b[39;00m\n\u001b[1;32m   3656\u001b[0m \u001b[38;5;28;01mexcept\u001b[39;00m \u001b[38;5;167;01mTypeError\u001b[39;00m:\n\u001b[1;32m   3657\u001b[0m     \u001b[38;5;66;03m# If we have a listlike key, _check_indexing_error will raise\u001b[39;00m\n\u001b[1;32m   3658\u001b[0m     \u001b[38;5;66;03m#  InvalidIndexError. Otherwise we fall through and re-raise\u001b[39;00m\n\u001b[1;32m   3659\u001b[0m     \u001b[38;5;66;03m#  the TypeError.\u001b[39;00m\n\u001b[1;32m   3660\u001b[0m     \u001b[38;5;28mself\u001b[39m\u001b[38;5;241m.\u001b[39m_check_indexing_error(key)\n",
      "\u001b[0;31mKeyError\u001b[0m: 'Species'"
     ]
    }
   ],
   "source": [
    "df['Species'] = encoder.fit_transform(df['Species'])"
   ]
  },
  {
   "cell_type": "code",
   "execution_count": null,
   "id": "565d7ec2",
   "metadata": {
    "execution": {
     "iopub.execute_input": "2023-10-18T11:50:46.454528Z",
     "iopub.status.busy": "2023-10-18T11:50:46.454144Z",
     "iopub.status.idle": "2023-10-18T11:50:46.468729Z",
     "shell.execute_reply": "2023-10-18T11:50:46.467707Z",
     "shell.execute_reply.started": "2023-10-18T11:50:46.454497Z"
    },
    "papermill": {
     "duration": null,
     "end_time": null,
     "exception": null,
     "start_time": null,
     "status": "pending"
    },
    "tags": []
   },
   "outputs": [],
   "source": [
    "df.head()"
   ]
  },
  {
   "cell_type": "code",
   "execution_count": null,
   "id": "d6a638c8",
   "metadata": {
    "execution": {
     "iopub.execute_input": "2023-10-18T11:50:48.338903Z",
     "iopub.status.busy": "2023-10-18T11:50:48.338341Z",
     "iopub.status.idle": "2023-10-18T11:50:48.345806Z",
     "shell.execute_reply": "2023-10-18T11:50:48.344777Z",
     "shell.execute_reply.started": "2023-10-18T11:50:48.338872Z"
    },
    "papermill": {
     "duration": null,
     "end_time": null,
     "exception": null,
     "start_time": null,
     "status": "pending"
    },
    "tags": []
   },
   "outputs": [],
   "source": [
    "df = df[df['Species'] != 0][['SepalWidthCm','PetalLengthCm','Species']]"
   ]
  },
  {
   "cell_type": "code",
   "execution_count": null,
   "id": "64290aa9",
   "metadata": {
    "execution": {
     "iopub.execute_input": "2023-10-18T11:50:49.972010Z",
     "iopub.status.busy": "2023-10-18T11:50:49.971371Z",
     "iopub.status.idle": "2023-10-18T11:50:49.982362Z",
     "shell.execute_reply": "2023-10-18T11:50:49.981263Z",
     "shell.execute_reply.started": "2023-10-18T11:50:49.971977Z"
    },
    "papermill": {
     "duration": null,
     "end_time": null,
     "exception": null,
     "start_time": null,
     "status": "pending"
    },
    "tags": []
   },
   "outputs": [],
   "source": [
    "df.head()"
   ]
  },
  {
   "cell_type": "code",
   "execution_count": null,
   "id": "46a21ff8",
   "metadata": {
    "execution": {
     "iopub.execute_input": "2023-10-18T11:50:52.449248Z",
     "iopub.status.busy": "2023-10-18T11:50:52.448600Z",
     "iopub.status.idle": "2023-10-18T11:50:52.453989Z",
     "shell.execute_reply": "2023-10-18T11:50:52.453186Z",
     "shell.execute_reply.started": "2023-10-18T11:50:52.449187Z"
    },
    "papermill": {
     "duration": null,
     "end_time": null,
     "exception": null,
     "start_time": null,
     "status": "pending"
    },
    "tags": []
   },
   "outputs": [],
   "source": [
    "import seaborn as sns\n",
    "import matplotlib.pyplot as plt"
   ]
  },
  {
   "cell_type": "code",
   "execution_count": null,
   "id": "28660e0d",
   "metadata": {
    "execution": {
     "iopub.execute_input": "2023-10-18T11:51:27.396329Z",
     "iopub.status.busy": "2023-10-18T11:51:27.395959Z",
     "iopub.status.idle": "2023-10-18T11:51:27.646829Z",
     "shell.execute_reply": "2023-10-18T11:51:27.645634Z",
     "shell.execute_reply.started": "2023-10-18T11:51:27.396301Z"
    },
    "papermill": {
     "duration": null,
     "end_time": null,
     "exception": null,
     "start_time": null,
     "status": "pending"
    },
    "tags": []
   },
   "outputs": [],
   "source": [
    "plt.scatter(df['SepalWidthCm'],df['PetalLengthCm'],c=df['Species'],cmap='winter')"
   ]
  },
  {
   "cell_type": "code",
   "execution_count": null,
   "id": "2469fa0e",
   "metadata": {
    "execution": {
     "iopub.execute_input": "2023-10-18T11:52:07.345280Z",
     "iopub.status.busy": "2023-10-18T11:52:07.344416Z",
     "iopub.status.idle": "2023-10-18T11:52:07.357253Z",
     "shell.execute_reply": "2023-10-18T11:52:07.356170Z",
     "shell.execute_reply.started": "2023-10-18T11:52:07.345240Z"
    },
    "papermill": {
     "duration": null,
     "end_time": null,
     "exception": null,
     "start_time": null,
     "status": "pending"
    },
    "tags": []
   },
   "outputs": [],
   "source": [
    "df_train=df.iloc[:60,:].sample(10)\n",
    "df_train"
   ]
  },
  {
   "cell_type": "code",
   "execution_count": null,
   "id": "63bbd40e",
   "metadata": {
    "execution": {
     "iopub.execute_input": "2023-10-18T11:53:38.033344Z",
     "iopub.status.busy": "2023-10-18T11:53:38.032960Z",
     "iopub.status.idle": "2023-10-18T11:53:38.041542Z",
     "shell.execute_reply": "2023-10-18T11:53:38.040279Z",
     "shell.execute_reply.started": "2023-10-18T11:53:38.033316Z"
    },
    "papermill": {
     "duration": null,
     "end_time": null,
     "exception": null,
     "start_time": null,
     "status": "pending"
    },
    "tags": []
   },
   "outputs": [],
   "source": [
    "#taking only 10rows for training\n",
    "df=df.sample(100)\n",
    "df_train=df.iloc[:60,:].sample(10)\n",
    "df_val=df.iloc[60:80,:].sample(5)\n",
    "df_test=df.iloc[80:,:].sample(5)"
   ]
  },
  {
   "cell_type": "code",
   "execution_count": null,
   "id": "50d71f6a",
   "metadata": {
    "execution": {
     "iopub.execute_input": "2023-10-18T11:53:45.657446Z",
     "iopub.status.busy": "2023-10-18T11:53:45.656553Z",
     "iopub.status.idle": "2023-10-18T11:53:45.670688Z",
     "shell.execute_reply": "2023-10-18T11:53:45.669417Z",
     "shell.execute_reply.started": "2023-10-18T11:53:45.657408Z"
    },
    "papermill": {
     "duration": null,
     "end_time": null,
     "exception": null,
     "start_time": null,
     "status": "pending"
    },
    "tags": []
   },
   "outputs": [],
   "source": [
    "df_train"
   ]
  },
  {
   "cell_type": "code",
   "execution_count": null,
   "id": "db691f9d",
   "metadata": {
    "execution": {
     "iopub.execute_input": "2023-10-18T11:54:12.717120Z",
     "iopub.status.busy": "2023-10-18T11:54:12.716769Z",
     "iopub.status.idle": "2023-10-18T11:54:12.729240Z",
     "shell.execute_reply": "2023-10-18T11:54:12.727762Z",
     "shell.execute_reply.started": "2023-10-18T11:54:12.717095Z"
    },
    "papermill": {
     "duration": null,
     "end_time": null,
     "exception": null,
     "start_time": null,
     "status": "pending"
    },
    "tags": []
   },
   "outputs": [],
   "source": [
    "df_val"
   ]
  },
  {
   "cell_type": "code",
   "execution_count": null,
   "id": "24fdf7a9",
   "metadata": {
    "execution": {
     "iopub.execute_input": "2023-10-18T11:54:18.141702Z",
     "iopub.status.busy": "2023-10-18T11:54:18.141334Z",
     "iopub.status.idle": "2023-10-18T11:54:18.153034Z",
     "shell.execute_reply": "2023-10-18T11:54:18.151936Z",
     "shell.execute_reply.started": "2023-10-18T11:54:18.141673Z"
    },
    "papermill": {
     "duration": null,
     "end_time": null,
     "exception": null,
     "start_time": null,
     "status": "pending"
    },
    "tags": []
   },
   "outputs": [],
   "source": [
    "df_test"
   ]
  },
  {
   "cell_type": "code",
   "execution_count": null,
   "id": "183b0de8",
   "metadata": {
    "execution": {
     "iopub.execute_input": "2023-10-18T11:55:00.758998Z",
     "iopub.status.busy": "2023-10-18T11:55:00.758618Z",
     "iopub.status.idle": "2023-10-18T11:55:00.764658Z",
     "shell.execute_reply": "2023-10-18T11:55:00.763665Z",
     "shell.execute_reply.started": "2023-10-18T11:55:00.758966Z"
    },
    "papermill": {
     "duration": null,
     "end_time": null,
     "exception": null,
     "start_time": null,
     "status": "pending"
    },
    "tags": []
   },
   "outputs": [],
   "source": [
    "X_test=df_val.iloc[:,0:2].values \n",
    "y_test=df_val.iloc[:,-1].values"
   ]
  },
  {
   "cell_type": "code",
   "execution_count": null,
   "id": "354a1f61",
   "metadata": {
    "execution": {
     "iopub.execute_input": "2023-10-18T11:55:04.541524Z",
     "iopub.status.busy": "2023-10-18T11:55:04.541131Z",
     "iopub.status.idle": "2023-10-18T11:55:04.547938Z",
     "shell.execute_reply": "2023-10-18T11:55:04.546778Z",
     "shell.execute_reply.started": "2023-10-18T11:55:04.541495Z"
    },
    "papermill": {
     "duration": null,
     "end_time": null,
     "exception": null,
     "start_time": null,
     "status": "pending"
    },
    "tags": []
   },
   "outputs": [],
   "source": [
    "y_test"
   ]
  },
  {
   "cell_type": "markdown",
   "id": "438384ac",
   "metadata": {
    "papermill": {
     "duration": null,
     "end_time": null,
     "exception": null,
     "start_time": null,
     "status": "pending"
    },
    "tags": []
   },
   "source": [
    "# Case 1-Bagging"
   ]
  },
  {
   "cell_type": "code",
   "execution_count": null,
   "id": "7bf8adb0",
   "metadata": {
    "execution": {
     "iopub.execute_input": "2023-10-18T11:56:32.269868Z",
     "iopub.status.busy": "2023-10-18T11:56:32.269416Z",
     "iopub.status.idle": "2023-10-18T11:56:32.287150Z",
     "shell.execute_reply": "2023-10-18T11:56:32.286280Z",
     "shell.execute_reply.started": "2023-10-18T11:56:32.269802Z"
    },
    "papermill": {
     "duration": null,
     "end_time": null,
     "exception": null,
     "start_time": null,
     "status": "pending"
    },
    "tags": []
   },
   "outputs": [],
   "source": [
    "#data for Tree1\n",
    "df_bag=df_train.sample(8,replace=True)\n",
    "\n",
    "X=df_bag.iloc[:,0:2]\n",
    "y=df_bag.iloc[:,-1]\n",
    "\n",
    "df_bag"
   ]
  },
  {
   "cell_type": "code",
   "execution_count": null,
   "id": "48436fb6",
   "metadata": {
    "execution": {
     "iopub.execute_input": "2023-10-18T11:58:58.540546Z",
     "iopub.status.busy": "2023-10-18T11:58:58.540113Z",
     "iopub.status.idle": "2023-10-18T11:58:58.545591Z",
     "shell.execute_reply": "2023-10-18T11:58:58.544650Z",
     "shell.execute_reply.started": "2023-10-18T11:58:58.540507Z"
    },
    "papermill": {
     "duration": null,
     "end_time": null,
     "exception": null,
     "start_time": null,
     "status": "pending"
    },
    "tags": []
   },
   "outputs": [],
   "source": [
    "from sklearn.tree import DecisionTreeClassifier\n",
    "from sklearn.tree import plot_tree\n",
    "from mlxtend.plotting import plot_decision_regions\n",
    "from sklearn.metrics import accuracy_score"
   ]
  },
  {
   "cell_type": "code",
   "execution_count": null,
   "id": "52b093e3",
   "metadata": {
    "execution": {
     "iopub.execute_input": "2023-10-18T11:58:59.298586Z",
     "iopub.status.busy": "2023-10-18T11:58:59.297839Z",
     "iopub.status.idle": "2023-10-18T11:58:59.302784Z",
     "shell.execute_reply": "2023-10-18T11:58:59.301616Z",
     "shell.execute_reply.started": "2023-10-18T11:58:59.298529Z"
    },
    "papermill": {
     "duration": null,
     "end_time": null,
     "exception": null,
     "start_time": null,
     "status": "pending"
    },
    "tags": []
   },
   "outputs": [],
   "source": [
    "dt_bag1=DecisionTreeClassifier()"
   ]
  },
  {
   "cell_type": "code",
   "execution_count": null,
   "id": "f98a1c4d",
   "metadata": {
    "execution": {
     "iopub.execute_input": "2023-10-18T12:01:56.777788Z",
     "iopub.status.busy": "2023-10-18T12:01:56.777412Z",
     "iopub.status.idle": "2023-10-18T12:01:56.784523Z",
     "shell.execute_reply": "2023-10-18T12:01:56.783174Z",
     "shell.execute_reply.started": "2023-10-18T12:01:56.777760Z"
    },
    "papermill": {
     "duration": null,
     "end_time": null,
     "exception": null,
     "start_time": null,
     "status": "pending"
    },
    "tags": []
   },
   "outputs": [],
   "source": [
    "def evaluate(clf,X,y):\n",
    "    clf.fit(X,y)\n",
    "    plot_tree(clf)\n",
    "    plt.show()\n",
    "    plot_decision_regions(X.values,y.values,clf=clf,legend=2)\n",
    "    y_pred=clf.predict(X_test)\n",
    "    print(accuracy_score(y_test,y_pred))"
   ]
  },
  {
   "cell_type": "code",
   "execution_count": null,
   "id": "23384420",
   "metadata": {
    "execution": {
     "iopub.execute_input": "2023-10-18T12:02:00.032588Z",
     "iopub.status.busy": "2023-10-18T12:02:00.032179Z",
     "iopub.status.idle": "2023-10-18T12:02:00.648230Z",
     "shell.execute_reply": "2023-10-18T12:02:00.647295Z",
     "shell.execute_reply.started": "2023-10-18T12:02:00.032559Z"
    },
    "papermill": {
     "duration": null,
     "end_time": null,
     "exception": null,
     "start_time": null,
     "status": "pending"
    },
    "tags": []
   },
   "outputs": [],
   "source": [
    "evaluate(dt_bag1,X,y)"
   ]
  },
  {
   "cell_type": "code",
   "execution_count": null,
   "id": "2ca33c3d",
   "metadata": {
    "execution": {
     "iopub.execute_input": "2023-10-18T12:05:26.991956Z",
     "iopub.status.busy": "2023-10-18T12:05:26.991492Z",
     "iopub.status.idle": "2023-10-18T12:05:27.008145Z",
     "shell.execute_reply": "2023-10-18T12:05:27.006299Z",
     "shell.execute_reply.started": "2023-10-18T12:05:26.991926Z"
    },
    "papermill": {
     "duration": null,
     "end_time": null,
     "exception": null,
     "start_time": null,
     "status": "pending"
    },
    "tags": []
   },
   "outputs": [],
   "source": [
    "# Data for Tree 1\n",
    "df_bag = df_train.sample(8,replace=True)\n",
    "\n",
    "# Fetch X and y\n",
    "X = df_bag.iloc[:,0:2]\n",
    "y = df_bag.iloc[:,-1]\n",
    "\n",
    "# print df_bag\n",
    "df_bag"
   ]
  },
  {
   "cell_type": "code",
   "execution_count": null,
   "id": "29345d22",
   "metadata": {
    "execution": {
     "iopub.execute_input": "2023-10-18T12:05:31.143673Z",
     "iopub.status.busy": "2023-10-18T12:05:31.143274Z",
     "iopub.status.idle": "2023-10-18T12:05:31.724750Z",
     "shell.execute_reply": "2023-10-18T12:05:31.723563Z",
     "shell.execute_reply.started": "2023-10-18T12:05:31.143640Z"
    },
    "papermill": {
     "duration": null,
     "end_time": null,
     "exception": null,
     "start_time": null,
     "status": "pending"
    },
    "tags": []
   },
   "outputs": [],
   "source": [
    "dt_bag2=DecisionTreeClassifier()\n",
    "evaluate(dt_bag2,X,y)"
   ]
  },
  {
   "cell_type": "code",
   "execution_count": null,
   "id": "9f01e4c7",
   "metadata": {
    "execution": {
     "iopub.execute_input": "2023-10-18T12:07:01.584084Z",
     "iopub.status.busy": "2023-10-18T12:07:01.583586Z",
     "iopub.status.idle": "2023-10-18T12:07:01.601408Z",
     "shell.execute_reply": "2023-10-18T12:07:01.599922Z",
     "shell.execute_reply.started": "2023-10-18T12:07:01.584048Z"
    },
    "papermill": {
     "duration": null,
     "end_time": null,
     "exception": null,
     "start_time": null,
     "status": "pending"
    },
    "tags": []
   },
   "outputs": [],
   "source": [
    "# Data for tree 1\n",
    "df_bag=df_train.sample(8,replace=True)\n",
    "\n",
    "#Fetch X and y\n",
    "X=df_bag.iloc[:,0:2]\n",
    "y=df_bag.iloc[:,-1]\n",
    "\n",
    "#print df_bag\n",
    "df_bag"
   ]
  },
  {
   "cell_type": "code",
   "execution_count": null,
   "id": "c1480c5d",
   "metadata": {
    "execution": {
     "iopub.execute_input": "2023-10-18T12:07:11.937087Z",
     "iopub.status.busy": "2023-10-18T12:07:11.936026Z",
     "iopub.status.idle": "2023-10-18T12:07:12.518742Z",
     "shell.execute_reply": "2023-10-18T12:07:12.517837Z",
     "shell.execute_reply.started": "2023-10-18T12:07:11.937034Z"
    },
    "papermill": {
     "duration": null,
     "end_time": null,
     "exception": null,
     "start_time": null,
     "status": "pending"
    },
    "tags": []
   },
   "outputs": [],
   "source": [
    "dt_bag3 = DecisionTreeClassifier()\n",
    "evaluate(dt_bag3,X,y)"
   ]
  },
  {
   "cell_type": "markdown",
   "id": "0c1305ce",
   "metadata": {
    "papermill": {
     "duration": null,
     "end_time": null,
     "exception": null,
     "start_time": null,
     "status": "pending"
    },
    "tags": []
   },
   "source": [
    "# Predict"
   ]
  },
  {
   "cell_type": "code",
   "execution_count": null,
   "id": "392d9bea",
   "metadata": {
    "execution": {
     "iopub.execute_input": "2023-10-18T12:07:36.018015Z",
     "iopub.status.busy": "2023-10-18T12:07:36.017645Z",
     "iopub.status.idle": "2023-10-18T12:07:36.029963Z",
     "shell.execute_reply": "2023-10-18T12:07:36.028778Z",
     "shell.execute_reply.started": "2023-10-18T12:07:36.017986Z"
    },
    "papermill": {
     "duration": null,
     "end_time": null,
     "exception": null,
     "start_time": null,
     "status": "pending"
    },
    "tags": []
   },
   "outputs": [],
   "source": [
    "df_test"
   ]
  },
  {
   "cell_type": "code",
   "execution_count": null,
   "id": "82251908",
   "metadata": {
    "execution": {
     "iopub.execute_input": "2023-10-18T12:07:55.816020Z",
     "iopub.status.busy": "2023-10-18T12:07:55.815669Z",
     "iopub.status.idle": "2023-10-18T12:07:55.826120Z",
     "shell.execute_reply": "2023-10-18T12:07:55.824823Z",
     "shell.execute_reply.started": "2023-10-18T12:07:55.815996Z"
    },
    "papermill": {
     "duration": null,
     "end_time": null,
     "exception": null,
     "start_time": null,
     "status": "pending"
    },
    "tags": []
   },
   "outputs": [],
   "source": [
    "print(\"Predictor 1\",dt_bag1.predict(np.array([2.2,5.0]).reshape(1,2)))\n",
    "print(\"Predictor 2\",dt_bag2.predict(np.array([2.2,5.0]).reshape(1,2)))\n",
    "print(\"Predictor 3\",dt_bag3.predict(np.array([2.2,5.0]).reshape(1,2)))"
   ]
  },
  {
   "cell_type": "markdown",
   "id": "f546d0ec",
   "metadata": {
    "papermill": {
     "duration": null,
     "end_time": null,
     "exception": null,
     "start_time": null,
     "status": "pending"
    },
    "tags": []
   },
   "source": [
    "# Pasting"
   ]
  },
  {
   "cell_type": "code",
   "execution_count": null,
   "id": "0ccabe24",
   "metadata": {
    "execution": {
     "iopub.execute_input": "2023-10-18T12:08:33.885734Z",
     "iopub.status.busy": "2023-10-18T12:08:33.885383Z",
     "iopub.status.idle": "2023-10-18T12:08:33.898721Z",
     "shell.execute_reply": "2023-10-18T12:08:33.897476Z",
     "shell.execute_reply.started": "2023-10-18T12:08:33.885706Z"
    },
    "papermill": {
     "duration": null,
     "end_time": null,
     "exception": null,
     "start_time": null,
     "status": "pending"
    },
    "tags": []
   },
   "outputs": [],
   "source": [
    "# Row sampling without replacement\n",
    "df_train"
   ]
  },
  {
   "cell_type": "code",
   "execution_count": null,
   "id": "46570572",
   "metadata": {
    "execution": {
     "iopub.execute_input": "2023-10-18T12:08:48.552307Z",
     "iopub.status.busy": "2023-10-18T12:08:48.551917Z",
     "iopub.status.idle": "2023-10-18T12:08:48.566410Z",
     "shell.execute_reply": "2023-10-18T12:08:48.565442Z",
     "shell.execute_reply.started": "2023-10-18T12:08:48.552266Z"
    },
    "papermill": {
     "duration": null,
     "end_time": null,
     "exception": null,
     "start_time": null,
     "status": "pending"
    },
    "tags": []
   },
   "outputs": [],
   "source": [
    "df_train.sample(8)"
   ]
  },
  {
   "cell_type": "markdown",
   "id": "f0d8886c",
   "metadata": {
    "papermill": {
     "duration": null,
     "end_time": null,
     "exception": null,
     "start_time": null,
     "status": "pending"
    },
    "tags": []
   },
   "source": [
    "# Random Subspaces"
   ]
  },
  {
   "cell_type": "code",
   "execution_count": null,
   "id": "8cfdcf7e",
   "metadata": {
    "execution": {
     "iopub.execute_input": "2023-10-18T12:11:23.288563Z",
     "iopub.status.busy": "2023-10-18T12:11:23.288168Z",
     "iopub.status.idle": "2023-10-18T12:11:23.295066Z",
     "shell.execute_reply": "2023-10-18T12:11:23.293789Z",
     "shell.execute_reply.started": "2023-10-18T12:11:23.288534Z"
    },
    "papermill": {
     "duration": null,
     "end_time": null,
     "exception": null,
     "start_time": null,
     "status": "pending"
    },
    "tags": []
   },
   "outputs": [],
   "source": [
    "df1=df1.sample(10)"
   ]
  },
  {
   "cell_type": "code",
   "execution_count": null,
   "id": "8bc9e79a",
   "metadata": {
    "execution": {
     "iopub.execute_input": "2023-10-18T12:11:24.960218Z",
     "iopub.status.busy": "2023-10-18T12:11:24.959814Z",
     "iopub.status.idle": "2023-10-18T12:11:24.975530Z",
     "shell.execute_reply": "2023-10-18T12:11:24.974297Z",
     "shell.execute_reply.started": "2023-10-18T12:11:24.960174Z"
    },
    "papermill": {
     "duration": null,
     "end_time": null,
     "exception": null,
     "start_time": null,
     "status": "pending"
    },
    "tags": []
   },
   "outputs": [],
   "source": [
    "df1"
   ]
  },
  {
   "cell_type": "code",
   "execution_count": null,
   "id": "59a80db4",
   "metadata": {
    "execution": {
     "iopub.execute_input": "2023-10-18T12:13:21.287006Z",
     "iopub.status.busy": "2023-10-18T12:13:21.286602Z",
     "iopub.status.idle": "2023-10-18T12:13:21.300655Z",
     "shell.execute_reply": "2023-10-18T12:13:21.298944Z",
     "shell.execute_reply.started": "2023-10-18T12:13:21.286973Z"
    },
    "papermill": {
     "duration": null,
     "end_time": null,
     "exception": null,
     "start_time": null,
     "status": "pending"
    },
    "tags": []
   },
   "outputs": [],
   "source": [
    "df1.sample(2,replace=True,axis=1)"
   ]
  },
  {
   "cell_type": "markdown",
   "id": "a1d5e9b3",
   "metadata": {
    "papermill": {
     "duration": null,
     "end_time": null,
     "exception": null,
     "start_time": null,
     "status": "pending"
    },
    "tags": []
   },
   "source": [
    "# Random Patches"
   ]
  },
  {
   "cell_type": "code",
   "execution_count": null,
   "id": "eab616ea",
   "metadata": {
    "execution": {
     "iopub.execute_input": "2023-10-18T12:13:39.246382Z",
     "iopub.status.busy": "2023-10-18T12:13:39.245991Z",
     "iopub.status.idle": "2023-10-18T12:13:39.262030Z",
     "shell.execute_reply": "2023-10-18T12:13:39.260825Z",
     "shell.execute_reply.started": "2023-10-18T12:13:39.246352Z"
    },
    "papermill": {
     "duration": null,
     "end_time": null,
     "exception": null,
     "start_time": null,
     "status": "pending"
    },
    "tags": []
   },
   "outputs": [],
   "source": [
    "df1"
   ]
  },
  {
   "cell_type": "code",
   "execution_count": null,
   "id": "23cd797b",
   "metadata": {
    "execution": {
     "iopub.execute_input": "2023-10-18T12:14:09.322953Z",
     "iopub.status.busy": "2023-10-18T12:14:09.322587Z",
     "iopub.status.idle": "2023-10-18T12:14:09.336924Z",
     "shell.execute_reply": "2023-10-18T12:14:09.335327Z",
     "shell.execute_reply.started": "2023-10-18T12:14:09.322927Z"
    },
    "papermill": {
     "duration": null,
     "end_time": null,
     "exception": null,
     "start_time": null,
     "status": "pending"
    },
    "tags": []
   },
   "outputs": [],
   "source": [
    "df1.sample(8,replace=True).sample(2,replace=True,axis=1)"
   ]
  },
  {
   "cell_type": "code",
   "execution_count": null,
   "id": "e5974c44",
   "metadata": {
    "papermill": {
     "duration": null,
     "end_time": null,
     "exception": null,
     "start_time": null,
     "status": "pending"
    },
    "tags": []
   },
   "outputs": [],
   "source": []
  }
 ],
 "metadata": {
  "kernelspec": {
   "display_name": "Python 3",
   "language": "python",
   "name": "python3"
  },
  "language_info": {
   "codemirror_mode": {
    "name": "ipython",
    "version": 3
   },
   "file_extension": ".py",
   "mimetype": "text/x-python",
   "name": "python",
   "nbconvert_exporter": "python",
   "pygments_lexer": "ipython3",
   "version": "3.10.12"
  },
  "papermill": {
   "default_parameters": {},
   "duration": 7.100812,
   "end_time": "2023-10-18T12:14:58.028554",
   "environment_variables": {},
   "exception": true,
   "input_path": "__notebook__.ipynb",
   "output_path": "__notebook__.ipynb",
   "parameters": {},
   "start_time": "2023-10-18T12:14:50.927742",
   "version": "2.4.0"
  }
 },
 "nbformat": 4,
 "nbformat_minor": 5
}
